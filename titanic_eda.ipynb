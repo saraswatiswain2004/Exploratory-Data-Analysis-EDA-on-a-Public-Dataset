# Titanic Dataset EDA

import pandas as pd
import numpy as np
import matplotlib.pyplot as plt
import seaborn as sns

# Set Seaborn style
sns.set(style="whitegrid")

# Load Titanic dataset
titanic = sns.load_dataset('titanic')

# Basic info
display(titanic.head())
titanic.info()
titanic.isnull().sum()

# Handling missing values
titanic['age'] = titanic['age'].fillna(titanic['age'].median())
titanic['embarked'] = titanic['embarked'].fillna(titanic['embarked'].mode()[0])
titanic.drop(columns='deck', inplace=True)

# Describe data
display(titanic.describe())

# Value counts
print(titanic['sex'].value_counts())
print(titanic['class'].value_counts())

# Age distribution
plt.figure(figsize=(8,5))
sns.histplot(titanic['age'], bins=30, kde=True)
plt.title('Age Distribution')
plt.show()

# Survival count
sns.countplot(data=titanic, x='survived')
plt.title('Survival Count (0 = No, 1 = Yes)')
plt.show()

# Survival by gender
sns.countplot(data=titanic, x='sex', hue='survived')
plt.title('Survival by Gender')
plt.show()

# Correlation heatmap
plt.figure(figsize=(10,6))
sns.heatmap(titanic.corr(numeric_only=True), annot=True, cmap='coolwarm')
plt.title('Correlation Heatmap')
plt.show()

# Boxplot: Age by class
sns.boxplot(x='class', y='age', data=titanic)
plt.title('Age Distribution by Passenger Class')
plt.show()
